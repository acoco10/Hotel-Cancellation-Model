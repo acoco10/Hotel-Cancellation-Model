{
 "cells": [
  {
   "cell_type": "code",
   "execution_count": 235,
   "metadata": {},
   "outputs": [],
   "source": [
    "import pandas as pd\n",
    "import numpy as np\n",
    "import seaborn as sns\n",
    "\n",
    "import pandas as pd\n",
    "\n",
    "import numpy as np\n",
    "from matplotlib import pyplot as plt\n",
    "from sklearn.preprocessing import MinMaxScaler"
   ]
  },
  {
   "cell_type": "markdown",
   "metadata": {},
   "source": [
    "# 1. Initial Data Cleaning"
   ]
  },
  {
   "cell_type": "markdown",
   "metadata": {},
   "source": [
    "Our data set is from Kaggle and fairly large, with over 100,000 rows and 32 columns. Each row is a different reservation. Our target variable is whether or not they ended up cancelling their reservation. Our classes are imbalanced towards non cancelations but not to a huge extent (75,000 - 45,000). This may affect a logistic regression, but a more powerful model with this much data will be fine."
   ]
  },
  {
   "cell_type": "code",
   "execution_count": 236,
   "metadata": {},
   "outputs": [],
   "source": [
    "df = pd.read_csv(\"data/hotel_bookings.csv\")\n",
    "pd.set_option('display.max_columns', None)\n",
    "pd.options.display.max_rows = 200"
   ]
  },
  {
   "cell_type": "code",
   "execution_count": 237,
   "metadata": {},
   "outputs": [
    {
     "data": {
      "text/plain": [
       "(119390, 32)"
      ]
     },
     "execution_count": 237,
     "metadata": {},
     "output_type": "execute_result"
    }
   ],
   "source": [
    "df.shape"
   ]
  },
  {
   "cell_type": "code",
   "execution_count": 238,
   "metadata": {},
   "outputs": [
    {
     "data": {
      "text/plain": [
       "0    75166\n",
       "1    44224\n",
       "Name: is_canceled, dtype: int64"
      ]
     },
     "execution_count": 238,
     "metadata": {},
     "output_type": "execute_result"
    }
   ],
   "source": [
    "df.is_canceled.value_counts()"
   ]
  },
  {
   "cell_type": "markdown",
   "metadata": {},
   "source": [
    "These are variables from after someone has checked in so they are not suitable for a predictive model. "
   ]
  },
  {
   "cell_type": "code",
   "execution_count": 239,
   "metadata": {},
   "outputs": [],
   "source": [
    "df = df.drop('reservation_status', axis = 1)"
   ]
  },
  {
   "cell_type": "code",
   "execution_count": 240,
   "metadata": {},
   "outputs": [],
   "source": [
    "df = df.drop('reservation_status_date', axis = 1)"
   ]
  },
  {
   "cell_type": "markdown",
   "metadata": {},
   "source": [
    "There is exactly one family with 10 children, the rest have 3 or less, lets just get rid of that outlier."
   ]
  },
  {
   "cell_type": "code",
   "execution_count": 241,
   "metadata": {},
   "outputs": [
    {
     "data": {
      "text/plain": [
       "0.0     110796\n",
       "1.0       4861\n",
       "2.0       3652\n",
       "3.0         76\n",
       "10.0         1\n",
       "Name: children, dtype: int64"
      ]
     },
     "execution_count": 241,
     "metadata": {},
     "output_type": "execute_result"
    }
   ],
   "source": [
    "df.children.value_counts()\n"
   ]
  },
  {
   "cell_type": "code",
   "execution_count": 242,
   "metadata": {},
   "outputs": [],
   "source": [
    "df.children = df[df.children < 10]"
   ]
  },
  {
   "cell_type": "markdown",
   "metadata": {},
   "source": [
    "We do not need the precision that day of the month or the week number provides to make a generalizable model "
   ]
  },
  {
   "cell_type": "code",
   "execution_count": 243,
   "metadata": {},
   "outputs": [],
   "source": [
    "df = df.drop('arrival_date_week_number', axis = 1)\n",
    "df = df.drop('arrival_date_day_of_month', axis =1)"
   ]
  },
  {
   "cell_type": "markdown",
   "metadata": {},
   "source": [
    "There are over 200 countries where people are visiting from in this data set, that will be a nightmare to make dummy variables out of and train models on, and may overfit to countries with few visitors, lets narrow it down to the top 20 and have the rest be \"other\"."
   ]
  },
  {
   "cell_type": "code",
   "execution_count": 244,
   "metadata": {},
   "outputs": [],
   "source": [
    "df['one'] = 1\n",
    "top_20_countries = df.groupby('country').sum().sort_values('one', ascending = False)[:20].index\n",
    "df['top_20_c'] = df.country.apply(lambda x: x in top_20_countries)\n",
    "df['country'] = np.where(df.top_20_c == True, df.country, 'other')"
   ]
  },
  {
   "cell_type": "code",
   "execution_count": 245,
   "metadata": {},
   "outputs": [
    {
     "data": {
      "text/plain": [
       "PRT      48590\n",
       "GBR      12129\n",
       "FRA      10415\n",
       "ESP       8568\n",
       "other     7371\n",
       "DEU       7287\n",
       "ITA       3766\n",
       "IRL       3375\n",
       "BEL       2342\n",
       "BRA       2224\n",
       "NLD       2104\n",
       "USA       2097\n",
       "CHE       1730\n",
       "CN        1279\n",
       "AUT       1263\n",
       "SWE       1024\n",
       "CHN        999\n",
       "POL        919\n",
       "ISR        669\n",
       "RUS        632\n",
       "NOR        607\n",
       "Name: country, dtype: int64"
      ]
     },
     "execution_count": 245,
     "metadata": {},
     "output_type": "execute_result"
    }
   ],
   "source": [
    "df.country.value_counts()"
   ]
  },
  {
   "cell_type": "code",
   "execution_count": 246,
   "metadata": {},
   "outputs": [],
   "source": [
    "df = df.drop('top_20_c', axis = 1)"
   ]
  },
  {
   "cell_type": "markdown",
   "metadata": {},
   "source": [
    "Lets do a similar thing to company as we did for countries but only the top 10, companies with only a few reservations do not seem very predictive and could over fit the model. We will also set the NaNs (the majority of the dataset) to \"no company.\""
   ]
  },
  {
   "cell_type": "code",
   "execution_count": 247,
   "metadata": {},
   "outputs": [],
   "source": [
    "df['company'] = df.company.astype(str)"
   ]
  },
  {
   "cell_type": "code",
   "execution_count": 248,
   "metadata": {},
   "outputs": [],
   "source": [
    "df['company'] = np.where(df.company == 'nan', 'no_company', df.company)"
   ]
  },
  {
   "cell_type": "code",
   "execution_count": 249,
   "metadata": {},
   "outputs": [],
   "source": [
    "top_11_companies = df.groupby('company').sum().sort_values('one', ascending = False)[:11].index\n",
    "df['top_10_co'] = df.company.apply(lambda x: x in top_11_companies)\n"
   ]
  },
  {
   "cell_type": "code",
   "execution_count": 250,
   "metadata": {},
   "outputs": [],
   "source": [
    "df['company'] = np.where(df.top_10_co == True, df.company, 'other')"
   ]
  },
  {
   "cell_type": "code",
   "execution_count": 251,
   "metadata": {},
   "outputs": [
    {
     "data": {
      "text/plain": [
       "no_company    112593\n",
       "other           3674\n",
       "40.0             927\n",
       "223.0            784\n",
       "67.0             267\n",
       "45.0             250\n",
       "153.0            215\n",
       "174.0            149\n",
       "219.0            141\n",
       "281.0            138\n",
       "154.0            133\n",
       "405.0            119\n",
       "Name: company, dtype: int64"
      ]
     },
     "execution_count": 251,
     "metadata": {},
     "output_type": "execute_result"
    }
   ],
   "source": [
    "df.company.value_counts()"
   ]
  },
  {
   "cell_type": "code",
   "execution_count": 252,
   "metadata": {},
   "outputs": [],
   "source": [
    "df = df.drop('one', axis = 1)"
   ]
  },
  {
   "cell_type": "code",
   "execution_count": 253,
   "metadata": {},
   "outputs": [],
   "source": [
    "df = df.drop('top_10_co', axis = 1)"
   ]
  },
  {
   "cell_type": "markdown",
   "metadata": {},
   "source": [
    "Theres some pesky nans floating around."
   ]
  },
  {
   "cell_type": "code",
   "execution_count": 254,
   "metadata": {},
   "outputs": [
    {
     "data": {
      "text/plain": [
       "hotel                                 0\n",
       "is_canceled                           0\n",
       "lead_time                             0\n",
       "arrival_date_year                     0\n",
       "arrival_date_month                    0\n",
       "stays_in_weekend_nights               0\n",
       "stays_in_week_nights                  0\n",
       "adults                                0\n",
       "children                              5\n",
       "babies                                0\n",
       "meal                                  0\n",
       "country                               0\n",
       "market_segment                        0\n",
       "distribution_channel                  0\n",
       "is_repeated_guest                     0\n",
       "previous_cancellations                0\n",
       "previous_bookings_not_canceled        0\n",
       "reserved_room_type                    0\n",
       "assigned_room_type                    0\n",
       "booking_changes                       0\n",
       "deposit_type                          0\n",
       "agent                             16340\n",
       "company                               0\n",
       "days_in_waiting_list                  0\n",
       "customer_type                         0\n",
       "adr                                   0\n",
       "required_car_parking_spaces           0\n",
       "total_of_special_requests             0\n",
       "dtype: int64"
      ]
     },
     "execution_count": 254,
     "metadata": {},
     "output_type": "execute_result"
    }
   ],
   "source": [
    "df.isna().sum()"
   ]
  },
  {
   "cell_type": "code",
   "execution_count": 255,
   "metadata": {},
   "outputs": [],
   "source": [
    "df['agent'] = np.where((df['agent'].astype('str') == 'NaN')|(df['agent'].astype('str') == 'nan'), 0, 1)"
   ]
  },
  {
   "cell_type": "markdown",
   "metadata": {},
   "source": [
    "Not so pesky after all, they showed us we could make the travel agent column a dummy variable between people who did and did not have an agent."
   ]
  },
  {
   "cell_type": "markdown",
   "metadata": {},
   "source": [
    "# 2. Exploratory Data Analysis"
   ]
  },
  {
   "cell_type": "code",
   "execution_count": 256,
   "metadata": {},
   "outputs": [],
   "source": [
    "# Font for the visual aids\n",
    "sub = {'family': 'serif',\n",
    "        'color':  'black',\n",
    "        'weight': 'normal',\n",
    "        'size': 16,\n",
    "        }\n",
    "Title = {'family': 'serif',\n",
    "        'color':  'black',\n",
    "        'weight': 'normal',\n",
    "        'size': 22,\n",
    "        }"
   ]
  },
  {
   "cell_type": "markdown",
   "metadata": {},
   "source": [
    "Lets figure out how much money our hotels lost on cancellations."
   ]
  },
  {
   "cell_type": "code",
   "execution_count": 257,
   "metadata": {},
   "outputs": [],
   "source": [
    "df['total_nights'] = df['stays_in_weekend_nights'] + df['stays_in_week_nights']"
   ]
  },
  {
   "cell_type": "code",
   "execution_count": 258,
   "metadata": {},
   "outputs": [
    {
     "data": {
      "text/plain": [
       "16727237.120000001"
      ]
     },
     "execution_count": 258,
     "metadata": {},
     "output_type": "execute_result"
    }
   ],
   "source": [
    "(df[df.is_canceled == 1]['total_nights'] * df[df.is_canceled == 1]['adr']).sum()"
   ]
  },
  {
   "cell_type": "markdown",
   "metadata": {},
   "source": [
    "16.7 million in three years! Thats a lot of cash! At the end we will show how much of this our model could save. This does not calculate the labor involved in switching reservations around and/or preparing different rooms. "
   ]
  },
  {
   "cell_type": "code",
   "execution_count": 260,
   "metadata": {},
   "outputs": [
    {
     "data": {
      "text/plain": [
       "City Hotel      79330\n",
       "Resort Hotel    40060\n",
       "Name: hotel, dtype: int64"
      ]
     },
     "execution_count": 260,
     "metadata": {},
     "output_type": "execute_result"
    }
   ],
   "source": [
    "df[\"hotel\"].value_counts() #number of reservations in each hotel for 3 years"
   ]
  },
  {
   "cell_type": "code",
   "execution_count": 261,
   "metadata": {
    "scrolled": false
   },
   "outputs": [
    {
     "data": {
      "image/png": "[encoded data removed]",
      "text/plain": [
       "<Figure size 720x576 with 1 Axes>"
      ]
     },
     "metadata": {
      "needs_background": "light"
     },
     "output_type": "display_data"
    }
   ],
   "source": [
    "fig, ax = plt.subplots(figsize = (10,8))\n",
    "ax=sns.countplot(x='hotel', data = df)\n",
    "plt.title('Number of Reservations at Hotels', fontdict = Title)\n",
    "plt.xlabel('Hotel', fontdict = sub)\n",
    "plt.ylabel('Count', fontdict = sub)\n",
    "plt.savefig('images/total_reservations', bbox_inches = \"tight\");"
   ]
  },
  {
   "cell_type": "code",
   "execution_count": 262,
   "metadata": {},
   "outputs": [
    {
     "data": {
      "image/png": "[encoded data removed]",
      "text/plain": [
       "<Figure size 720x576 with 1 Axes>"
      ]
     },
     "metadata": {
      "needs_background": "light"
     },
     "output_type": "display_data"
    }
   ],
   "source": [
    "fig, ax = plt.subplots(figsize = (10,8))\n",
    "ax = sns.countplot(x='is_canceled', data = df)\n",
    "plt.title('Number of Cancellations', fontdict = Title)\n",
    "\n",
    "plt.xlabel('Cancellations', fontdict =  sub)\n",
    "plt.ylabel('Count',  fontdict = sub);\n",
    "plt.xticks([0,1],[\"Cancel: No\", \"Cancel: Yes\"])\n",
    "plt.savefig('images/total_cancel', bbox_inches = \"tight\");\n",
    "# 0 - Not canceled\n",
    "# 1 - Canceled "
   ]
  },
  {
   "cell_type": "code",
   "execution_count": 263,
   "metadata": {
    "scrolled": true
   },
   "outputs": [
    {
     "data": {
      "text/plain": [
       "hotel         arrival_date_year\n",
       "City Hotel    2015                  6004\n",
       "              2016                 15407\n",
       "              2017                 11691\n",
       "Resort Hotel  2015                  2138\n",
       "              2016                  4930\n",
       "              2017                  4054\n",
       "Name: is_canceled, dtype: int64"
      ]
     },
     "execution_count": 263,
     "metadata": {},
     "output_type": "execute_result"
    }
   ],
   "source": [
    "df.groupby(['hotel', 'arrival_date_year'])['is_canceled'].sum() #number of cancellations per year for each hotel"
   ]
  },
  {
   "cell_type": "code",
   "execution_count": 264,
   "metadata": {
    "scrolled": false
   },
   "outputs": [
    {
     "data": {
      "image/png": "[encoded data removed]",
      "text/plain": [
       "<Figure size 864x576 with 1 Axes>"
      ]
     },
     "metadata": {
      "needs_background": "light"
     },
     "output_type": "display_data"
    }
   ],
   "source": [
    "df.groupby(['hotel', 'arrival_date_year'])['is_canceled'].sum().plot.bar(figsize=(12,8)) # plotting the above information\n",
    "plt.title('Hotel Cancellations by Year', fontdict = Title)\n",
    "plt.ylabel('Total Number of Cancellations', fontdict = sub)\n",
    "plt.xlabel(\"Hotel and Year\", rotation = 0, fontdict=sub)\n",
    "plt.xticks(rotation=0)\n",
    "plt.savefig('images/cancellation_years', bbox_inches = \"tight\");"
   ]
  },
  {
   "cell_type": "code",
   "execution_count": 266,
   "metadata": {},
   "outputs": [
    {
     "data": {
      "image/png": "[encoded data removed]",
      "text/plain": [
       "<Figure size 864x576 with 1 Axes>"
      ]
     },
     "metadata": {
      "needs_background": "light"
     },
     "output_type": "display_data"
    }
   ],
   "source": [
    "df.groupby(['arrival_date_month'])['is_canceled'].sum().plot.bar(figsize=(12,8)) # plotting the above information\n",
    "plt.title('Hotel Cancellations by Months', fontdict = Title)\n",
    "plt.ylabel('Total Number of Cancellations', fontdict = sub)\n",
    "plt.xlabel(\"Hotel and Month\", rotation = 0, fontdict=sub)\n",
    "plt.xticks(rotation=0)\n",
    "plt.savefig('images/cancellation_months', bbox_inches = \"tight\");"
   ]
  },
  {
   "cell_type": "code",
   "execution_count": 278,
   "metadata": {},
   "outputs": [
    {
     "data": {
      "image/png": "[encoded data removed]",
      "text/plain": [
       "<Figure size 864x576 with 1 Axes>"
      ]
     },
     "metadata": {
      "needs_background": "light"
     },
     "output_type": "display_data"
    }
   ],
   "source": [
    "fig, ax = (plt.subplots(figsize = (12,8)))\n",
    "sns.barplot(x=\"is_repeated_guest\",y= \"lead_time\", data=df, hue=\"is_canceled\")\n",
    "plt.title(\"Relationship between Cancelations, Leadtime and Repeated Guests\", fontdict = Title)\n",
    "plt.xlabel(\"Repeated Guest\", fontdict = sub)\n",
    "plt.ylabel(\"Leadtime\", fontdict = sub)\n",
    "plt.xticks([0,1],['First Time', 'Repeated Guest'])\n",
    "#plt.legend([\"No\", \"Yes\"])\n",
    "plt.savefig('images/relationship_cancel_lt_repeated', bbox_inches = \"tight\");"
   ]
  },
  {
   "cell_type": "code",
   "execution_count": null,
   "metadata": {},
   "outputs": [],
   "source": []
  },
  {
   "cell_type": "code",
   "execution_count": 268,
   "metadata": {},
   "outputs": [
    {
     "data": {
      "image/png": "[encoded data removed]",
      "text/plain": [
       "<Figure size 720x360 with 2 Axes>"
      ]
     },
     "metadata": {
      "needs_background": "light"
     },
     "output_type": "display_data"
    }
   ],
   "source": [
    "# correlation polt to check for exisiting colinearity that should be taken into consideration\n",
    "# for feature engineering and feature selection\n",
    "corr = df.corr()\n",
    "\n",
    "plt.figure(figsize = (10, 5))\n",
    "\n",
    "ax = sns.heatmap(corr, vmin = -1, vmax = 1, center = 0, \n",
    "                 cmap = sns.diverging_palette(20, 220, n = 200))\n",
    "\n",
    "ax.set_xticklabels(ax.get_xticklabels(), rotation = 45, horizontalalignment = 'right');\n"
   ]
  },
  {
   "cell_type": "markdown",
   "metadata": {},
   "source": [
    "# 3. Feature Engineering "
   ]
  },
  {
   "cell_type": "markdown",
   "metadata": {},
   "source": [
    "Lets add a feature where somebody got a different room type than the one they reserved, as this may make them likely to cancel."
   ]
  },
  {
   "cell_type": "code",
   "execution_count": 224,
   "metadata": {},
   "outputs": [],
   "source": [
    "df['dif_room_than_res'] = np.where(df.reserved_room_type == df.assigned_room_type, 0, 1)"
   ]
  },
  {
   "cell_type": "markdown",
   "metadata": {},
   "source": [
    "Most people were not put on the waiting list at all. Lets just change it to more of a had to wair or did not have to wait column. "
   ]
  },
  {
   "cell_type": "code",
   "execution_count": 225,
   "metadata": {},
   "outputs": [],
   "source": [
    "df['had_to_wait'] = np.where(df['days_in_waiting_list']>0, 1, 0)\n",
    "df = df.drop('days_in_waiting_list', axis = 1)"
   ]
  },
  {
   "cell_type": "markdown",
   "metadata": {},
   "source": [
    "This feature might have colinearity issues BUT we will probably settly on a complex model that adresses this and it will help evualate the precision profit trade off I will get into later. "
   ]
  },
  {
   "cell_type": "code",
   "execution_count": 226,
   "metadata": {},
   "outputs": [],
   "source": [
    "df['total_cost'] = df.adr * df.total_nights "
   ]
  },
  {
   "cell_type": "code",
   "execution_count": 227,
   "metadata": {},
   "outputs": [
    {
     "data": {
      "image/png": "[encoded data removed]",
      "text/plain": [
       "<Figure size 432x288 with 1 Axes>"
      ]
     },
     "metadata": {
      "needs_background": "light"
     },
     "output_type": "display_data"
    }
   ],
   "source": [
    "sns.barplot(x=df[\"hotel\"], y=df[\"total_cost\"].sum())\n",
    "plt.title('Total Revenue Loss in 3 Years', fontdict = Title)\n",
    "plt.ylabel('Total Loss (Euro in Millions)', fontdict = sub)\n",
    "plt.xlabel(\"Hotel\", rotation = 0, fontdict=sub)\n",
    "plt.xticks(rotation=0)\n",
    "plt.savefig('images/total_Revenue_Loss', bbox_inches = \"tight\");"
   ]
  },
  {
   "cell_type": "code",
   "execution_count": 233,
   "metadata": {
    "scrolled": false
   },
   "outputs": [
    {
     "data": {
      "image/png": "[encoded data removed]",
      "text/plain": [
       "<Figure size 864x576 with 1 Axes>"
      ]
     },
     "metadata": {
      "needs_background": "light"
     },
     "output_type": "display_data"
    }
   ],
   "source": [
    "df.groupby(['arrival_date_year', \"hotel\"])['total_cost'].sum().plot.bar(figsize=(12,8))\n",
    "plt.title('Revenue Loss per Year from Cancellations', fontdict = Title)\n",
    "plt.ylabel('Total Loss (Euro)', fontdict = sub)\n",
    "plt.xlabel(\"Hotel and Year\", rotation = 0, fontdict=sub)\n",
    "plt.xticks(rotation=0)\n",
    "plt.ticklabel_format(axis=\"y\", style=\"plain\")\n",
    "plt.savefig('images/Revenue_Loss_per_Year', bbox_inches = \"tight\");"
   ]
  },
  {
   "cell_type": "markdown",
   "metadata": {},
   "source": [
    "Now lets make dummy variable out of the bevy of categorical data to make our data suited for any kind of model we choose to run."
   ]
  },
  {
   "cell_type": "code",
   "execution_count": 187,
   "metadata": {},
   "outputs": [],
   "source": [
    "df = pd.get_dummies(df, columns = ['deposit_type'], drop_first = True)\n",
    "df = pd.get_dummies(df, columns = ['customer_type'], drop_first = True)\n",
    "df = pd.get_dummies(df, columns = ['arrival_date_month'], drop_first = True)\n",
    "df = pd.get_dummies(df, columns = ['reserved_room_type'], drop_first = True)\n",
    "df = pd.get_dummies(df, columns = ['assigned_room_type'], drop_first = True)\n",
    "df = pd.get_dummies(df, columns = ['meal'], drop_first = True)\n",
    "df = pd.get_dummies(df, columns = ['market_segment'], drop_first = True)\n",
    "df = pd.get_dummies(df, columns = ['country'], drop_first = True)\n",
    "df = pd.get_dummies(df, columns = ['distribution_channel'], drop_first = True)\n",
    "df = pd.get_dummies(df, columns = ['children'], drop_first = True)\n",
    "df = pd.get_dummies(df, columns = ['hotel'], drop_first = True)\n",
    "df = pd.get_dummies(df, columns = ['company'], drop_first = True)"
   ]
  },
  {
   "cell_type": "markdown",
   "metadata": {},
   "source": [
    "### Base Model - Logistic Regression, Decision Tree and Random Forest  Classifiers\n",
    "\n",
    "Now that we can see the relationships between the features and have made dummy columns for the categorical features, we will test what the base model looks like right now and improve the model to make better predictions. "
   ]
  },
  {
   "cell_type": "code",
   "execution_count": 41,
   "metadata": {},
   "outputs": [],
   "source": [
    "from sklearn.linear_model import LogisticRegression # Import Logistic Regression\n",
    "from sklearn import metrics \n",
    "from sklearn.tree import DecisionTreeClassifier # Import Decision Tree Classifier\n",
    "from sklearn.model_selection import train_test_split # Import train_test_split function\n",
    "from sklearn.metrics import make_scorer, accuracy_score #Import scikit-learn metrics module for accuracy calculation\n",
    "from sklearn.ensemble import RandomForestClassifier\n",
    "import xgboost as xgb\n",
    "from sklearn.metrics import precision_score, classification_report"
   ]
  },
  {
   "cell_type": "markdown",
   "metadata": {},
   "source": [
    "#### Logistic Regresion Base model"
   ]
  },
  {
   "cell_type": "code",
   "execution_count": 42,
   "metadata": {},
   "outputs": [],
   "source": [
    "X = df.drop('is_canceled', axis =1)\n",
    "y = df.is_canceled\n",
    "X_train, X_test, y_train, y_test = train_test_split(X, y, random_state=1)"
   ]
  },
  {
   "cell_type": "code",
   "execution_count": 43,
   "metadata": {},
   "outputs": [],
   "source": [
    "lr = LogisticRegression (max_iter = 2000)\n",
    "lr.fit(X_train, y_train)\n",
    "base_lr_test_pred = lr.predict(X_test)\n"
   ]
  },
  {
   "cell_type": "code",
   "execution_count": 44,
   "metadata": {},
   "outputs": [
    {
     "name": "stdout",
     "output_type": "stream",
     "text": [
      "Precision Score:  0.8131534569983137\n",
      "Confusion Matrix:  [[17191  1662]\n",
      " [ 3762  7233]]\n",
      "Classification Report:                precision    recall  f1-score   support\n",
      "\n",
      "           0       0.82      0.91      0.86     18853\n",
      "           1       0.81      0.66      0.73     10995\n",
      "\n",
      "    accuracy                           0.82     29848\n",
      "   macro avg       0.82      0.78      0.80     29848\n",
      "weighted avg       0.82      0.82      0.81     29848\n",
      "\n"
     ]
    }
   ],
   "source": [
    "\n",
    "print(\"Precision Score: \", precision_score(y_test, base_lr_test_pred))\n",
    "print (\"Confusion Matrix: \", metrics.confusion_matrix(y_test, base_lr_test_pred))\n",
    "print(\"Classification Report: \", classification_report(y_test, base_lr_test_pred))"
   ]
  },
  {
   "cell_type": "markdown",
   "metadata": {},
   "source": [
    "#### Random Forest Base model\n"
   ]
  },
  {
   "cell_type": "code",
   "execution_count": 45,
   "metadata": {},
   "outputs": [],
   "source": [
    "rfc = RandomForestClassifier(random_state = 1, n_estimators=300, max_depth=10, max_features='auto')\n",
    "rfc = rfc.fit(X_train, y_train)"
   ]
  },
  {
   "cell_type": "code",
   "execution_count": 46,
   "metadata": {},
   "outputs": [
    {
     "name": "stdout",
     "output_type": "stream",
     "text": [
      "Precision Score:  0.8921568627450981\n",
      "Confusion Matrix:  [[17973   880]\n",
      " [ 3715  7280]]\n",
      "Classification Report:                precision    recall  f1-score   support\n",
      "\n",
      "           0       0.83      0.95      0.89     18853\n",
      "           1       0.89      0.66      0.76     10995\n",
      "\n",
      "    accuracy                           0.85     29848\n",
      "   macro avg       0.86      0.81      0.82     29848\n",
      "weighted avg       0.85      0.85      0.84     29848\n",
      "\n"
     ]
    }
   ],
   "source": [
    "base_rfc_test_pred = rfc.predict(X_test)\n",
    "print(\"Precision Score: \", precision_score(y_test, base_rfc_test_pred))\n",
    "print (\"Confusion Matrix: \", metrics.confusion_matrix(y_test, base_rfc_test_pred))\n",
    "print(\"Classification Report: \",  classification_report(y_test, base_rfc_test_pred))"
   ]
  },
  {
   "cell_type": "code",
   "execution_count": null,
   "metadata": {},
   "outputs": [],
   "source": []
  },
  {
   "cell_type": "markdown",
   "metadata": {},
   "source": [
    "# 4. Feature Selection"
   ]
  },
  {
   "cell_type": "code",
   "execution_count": null,
   "metadata": {},
   "outputs": [],
   "source": []
  },
  {
   "cell_type": "markdown",
   "metadata": {},
   "source": [
    "# 5. Model iterations"
   ]
  },
  {
   "cell_type": "markdown",
   "metadata": {},
   "source": [
    "Since overbooking a room where someone did not cancel would be a headache, we tailored our models towards precision. AKA if we say someone is going to cancel, there is a very high chance they are. This might dip into profitabality since less rooms can be overbooked but that could be adjusted on a client by client basis. "
   ]
  },
  {
   "cell_type": "markdown",
   "metadata": {},
   "source": [
    "### Test Train Split"
   ]
  },
  {
   "cell_type": "code",
   "execution_count": 84,
   "metadata": {},
   "outputs": [],
   "source": [
    "X = df.drop('is_canceled', axis =1)\n",
    "y = df['is_canceled']\n",
    "X_train, X_test, y_train, y_test = train_test_split(X, y, random_state=1)\n"
   ]
  },
  {
   "cell_type": "markdown",
   "metadata": {},
   "source": [
    "### Scaling our data"
   ]
  },
  {
   "cell_type": "code",
   "execution_count": 65,
   "metadata": {},
   "outputs": [],
   "source": [
    "scaler = MinMaxScaler()\n",
    "scaled = scaler.fit_transform(X_train)\n",
    "scaled_test = scaler.transform(X_test)\n"
   ]
  },
  {
   "cell_type": "markdown",
   "metadata": {},
   "source": [
    "### Logistic Regression"
   ]
  },
  {
   "cell_type": "code",
   "execution_count": 66,
   "metadata": {},
   "outputs": [],
   "source": [
    "lr = LogisticRegression (max_iter = 1000)\n",
    "lr.fit(scaled, y_train)\n",
    "lr_test_pred = lr.predict(scaled_test)\n"
   ]
  },
  {
   "cell_type": "code",
   "execution_count": 67,
   "metadata": {},
   "outputs": [
    {
     "data": {
      "text/plain": [
       "0.8082913165266107"
      ]
     },
     "execution_count": 67,
     "metadata": {},
     "output_type": "execute_result"
    }
   ],
   "source": [
    "metrics.precision_score(y_test , lr_test_pred)"
   ]
  },
  {
   "cell_type": "code",
   "execution_count": 68,
   "metadata": {},
   "outputs": [
    {
     "name": "stdout",
     "output_type": "stream",
     "text": [
      "Precision Score: \n",
      "0.8082913165266107\n",
      "Confusion Matrix: \n",
      "[[17142  1711]\n",
      " [ 3781  7214]]\n",
      "Classification Report: \n",
      "              precision    recall  f1-score   support\n",
      "\n",
      "           0       0.82      0.91      0.86     18853\n",
      "           1       0.81      0.66      0.72     10995\n",
      "\n",
      "    accuracy                           0.82     29848\n",
      "   macro avg       0.81      0.78      0.79     29848\n",
      "weighted avg       0.82      0.82      0.81     29848\n",
      "\n"
     ]
    }
   ],
   "source": [
    "print(\"Precision Score: \")\n",
    "print(precision_score(y_test, lr_test_pred))\n",
    "print (\"Confusion Matrix: \",)\n",
    "print(metrics.confusion_matrix(y_test, lr_test_pred))\n",
    "print(\"Classification Report: \",)\n",
    "print(classification_report(y_test, lr_test_pred))"
   ]
  },
  {
   "cell_type": "markdown",
   "metadata": {},
   "source": [
    "### With Ridge"
   ]
  },
  {
   "cell_type": "code",
   "execution_count": 69,
   "metadata": {},
   "outputs": [],
   "source": [
    "lr = LogisticRegression (penalty = 'l1', solver='saga', max_iter = 1000)\n",
    "lr.fit(scaled, y_train)\n",
    "ridge_test_pred = lr.predict(scaled_test)"
   ]
  },
  {
   "cell_type": "code",
   "execution_count": 70,
   "metadata": {},
   "outputs": [
    {
     "data": {
      "text/plain": [
       "0.8121546961325967"
      ]
     },
     "execution_count": 70,
     "metadata": {},
     "output_type": "execute_result"
    }
   ],
   "source": [
    "metrics.precision_score(y_test, ridge_test_pred)\n",
    "print(\"Precision Score: \")\n",
    "print(precision_score(y_test, ridge_test_pred))\n",
    "print (\"Confusion Matrix: \",)\n",
    "print(metrics.confusion_matrix(y_test, ridge_test_pred))\n",
    "print(\"Classification Report: \",)\n",
    "print(classification_report(y_test, ridge_test_pred))"
   ]
  },
  {
   "cell_type": "markdown",
   "metadata": {},
   "source": [
    "### Random Forest Model"
   ]
  },
  {
   "cell_type": "code",
   "execution_count": 71,
   "metadata": {},
   "outputs": [],
   "source": [
    "rfc = RandomForestClassifier(random_state = 1, n_estimators=300, max_depth=10, max_features='auto')"
   ]
  },
  {
   "cell_type": "code",
   "execution_count": 72,
   "metadata": {},
   "outputs": [],
   "source": [
    "rfc = rfc.fit(X_train, y_train)"
   ]
  },
  {
   "cell_type": "code",
   "execution_count": 73,
   "metadata": {},
   "outputs": [
    {
     "data": {
      "text/plain": [
       "0.8921568627450981"
      ]
     },
     "execution_count": 73,
     "metadata": {},
     "output_type": "execute_result"
    }
   ],
   "source": [
    "rfc_test_pred = rfc.predict(X_test)\n",
    "metrics.precision_score(y_test, rfc_test_pred)"
   ]
  },
  {
   "cell_type": "code",
   "execution_count": 74,
   "metadata": {},
   "outputs": [
    {
     "name": "stdout",
     "output_type": "stream",
     "text": [
      "Precision Score: \n",
      "0.8921568627450981\n",
      "Confusion Matrix: \n",
      "[[17973   880]\n",
      " [ 3715  7280]]\n",
      "Classification Report: \n",
      "              precision    recall  f1-score   support\n",
      "\n",
      "           0       0.83      0.95      0.89     18853\n",
      "           1       0.89      0.66      0.76     10995\n",
      "\n",
      "    accuracy                           0.85     29848\n",
      "   macro avg       0.86      0.81      0.82     29848\n",
      "weighted avg       0.85      0.85      0.84     29848\n",
      "\n"
     ]
    }
   ],
   "source": [
    "print(\"Precision Score: \")\n",
    "print(precision_score(y_test, rfc_test_pred))\n",
    "print (\"Confusion Matrix: \",)\n",
    "print(metrics.confusion_matrix(y_test, rfc_test_pred))\n",
    "print(\"Classification Report: \",)\n",
    "print(classification_report(y_test, rfc_test_pred))"
   ]
  },
  {
   "cell_type": "markdown",
   "metadata": {},
   "source": [
    "### With Gridsearch Hyper Paramaters "
   ]
  },
  {
   "cell_type": "code",
   "execution_count": 75,
   "metadata": {},
   "outputs": [],
   "source": [
    "rfc = RandomForestClassifier(random_state = 1, n_estimators=300, max_depth=2, max_features='auto')"
   ]
  },
  {
   "cell_type": "code",
   "execution_count": null,
   "metadata": {},
   "outputs": [],
   "source": []
  },
  {
   "cell_type": "markdown",
   "metadata": {},
   "source": [
    "### XGBoost with GBTree"
   ]
  },
  {
   "cell_type": "code",
   "execution_count": 76,
   "metadata": {},
   "outputs": [],
   "source": [
    "xg_clf = xgb.XGBClassifier(objective ='binary:logistic', \n",
    "                           colsample_bytree = 0.5, \n",
    "                           subsample = 0.5,\n",
    "                           learning_rate = 0.1,\n",
    "                           max_depth = 10, \n",
    "                           alpha = 1, \n",
    "                           n_estimators = 1000,\n",
    "                           verbosity = 1,\n",
    "                           booster = 'gbtree',\n",
    "                          )"
   ]
  },
  {
   "cell_type": "code",
   "execution_count": 77,
   "metadata": {},
   "outputs": [
    {
     "data": {
      "text/plain": [
       "XGBClassifier(alpha=1, colsample_bytree=0.5, max_depth=10, n_estimators=1000,\n",
       "              subsample=0.5)"
      ]
     },
     "execution_count": 77,
     "metadata": {},
     "output_type": "execute_result"
    }
   ],
   "source": [
    "xg_clf.fit(X_train,y_train)"
   ]
  },
  {
   "cell_type": "code",
   "execution_count": 78,
   "metadata": {},
   "outputs": [],
   "source": [
    "xg_preds2 = xg_clf.predict(X_test)"
   ]
  },
  {
   "cell_type": "code",
   "execution_count": 79,
   "metadata": {},
   "outputs": [
    {
     "name": "stdout",
     "output_type": "stream",
     "text": [
      "Precision Score: \n",
      "0.8573865251587226\n",
      "Confusion Matrix: \n",
      "[[17348  1505]\n",
      " [ 1947  9048]]\n",
      "Classification Report: \n",
      "              precision    recall  f1-score   support\n",
      "\n",
      "           0       0.90      0.92      0.91     18853\n",
      "           1       0.86      0.82      0.84     10995\n",
      "\n",
      "    accuracy                           0.88     29848\n",
      "   macro avg       0.88      0.87      0.87     29848\n",
      "weighted avg       0.88      0.88      0.88     29848\n",
      "\n"
     ]
    }
   ],
   "source": [
    "print(\"Precision Score: \")\n",
    "print(precision_score(y_test, xg_preds2))\n",
    "print (\"Confusion Matrix: \",)\n",
    "print(metrics.confusion_matrix(y_test, xg_preds2))\n",
    "print(\"Classification Report: \",)\n",
    "print(classification_report(y_test, xg_preds2))"
   ]
  },
  {
   "cell_type": "markdown",
   "metadata": {},
   "source": [
    "### Cross Valatiation on XGBoost"
   ]
  },
  {
   "cell_type": "code",
   "execution_count": 88,
   "metadata": {},
   "outputs": [],
   "source": [
    "from sklearn.model_selection import cross_validate"
   ]
  },
  {
   "cell_type": "code",
   "execution_count": 90,
   "metadata": {},
   "outputs": [
    {
     "name": "stderr",
     "output_type": "stream",
     "text": [
      "[Parallel(n_jobs=-1)]: Using backend LokyBackend with 8 concurrent workers.\n",
      "[Parallel(n_jobs=-1)]: Done   6 out of  10 | elapsed: 26.2min remaining: 17.5min\n"
     ]
    },
    {
     "name": "stdout",
     "output_type": "stream",
     "text": [
      "{'fit_time': array([1563.8153019 , 1562.7983532 , 1560.8595283 , 1561.80836511,\n",
      "       1567.00827503, 1559.48236704, 1560.46648479, 1559.05247116,\n",
      "        758.51858592,  758.81964016]), 'score_time': array([6.47677112, 6.80403399, 7.48363376, 7.18130898, 3.85630298,\n",
      "       6.07776976, 7.46246195, 6.34602594, 2.52221727, 2.45609498]), 'test_f1': array([0.46372549, 0.27236076, 0.3869545 , 0.36943781, 0.41871345,\n",
      "       0.46220598, 0.35285596, 0.4041831 , 0.32194546, 0.61102362]), 'test_precision': array([0.83568905, 0.40087912, 0.39747258, 0.35517529, 0.43362403,\n",
      "       0.46678967, 0.3253196 , 0.3400741 , 0.28514126, 0.45713645]), 'test_accuracy': array([0.7251026 , 0.59184186, 0.55758439, 0.51335958, 0.58371723,\n",
      "       0.6054946 , 0.47617053, 0.45598459, 0.42315102, 0.5655415 ]), 'test_recall': array([0.32089552, 0.20624152, 0.37697874, 0.38489371, 0.40479421,\n",
      "       0.45771144, 0.38548496, 0.49807823, 0.3696586 , 0.92109428])}\n"
     ]
    },
    {
     "name": "stderr",
     "output_type": "stream",
     "text": [
      "[Parallel(n_jobs=-1)]: Done  10 out of  10 | elapsed: 38.8min finished\n"
     ]
    }
   ],
   "source": [
    "v=cross_validate(xg_clf, X, y, verbose = 1, scoring = [\"f1\", \"precision\",\"accuracy\",\"recall\"], cv = 10, n_jobs = -1)\n",
    "print(v)"
   ]
  },
  {
   "cell_type": "code",
   "execution_count": 100,
   "metadata": {},
   "outputs": [
    {
     "data": {
      "text/plain": [
       "array([0.46372549, 0.27236076, 0.3869545 , 0.36943781, 0.41871345,\n",
       "       0.46220598, 0.35285596, 0.4041831 , 0.32194546, 0.61102362])"
      ]
     },
     "execution_count": 100,
     "metadata": {},
     "output_type": "execute_result"
    }
   ],
   "source": [
    "v[\"test_f1\"]"
   ]
  },
  {
   "cell_type": "code",
   "execution_count": 104,
   "metadata": {},
   "outputs": [],
   "source": [
    "average_f1 = sum(v['test_f1'])/ len(v['test_f1'])\n",
    "average_precision = sum(v['test_precision'])/ len(v['test_precision'])\n",
    "average_accuracy = sum(v['test_accuracy'])/ len(v['test_accuracy'])\n",
    "average_recall = sum(v['test_recall'])/ len(v['test_recall'])"
   ]
  },
  {
   "cell_type": "code",
   "execution_count": 105,
   "metadata": {},
   "outputs": [
    {
     "name": "stdout",
     "output_type": "stream",
     "text": [
      "Average F1 score:  0.40634061385285325\n",
      "Average Precision score:  0.42973011380763426\n",
      "Average Accuracy score:  0.5497947901834326\n",
      "Average recall score:  0.4325831226577327\n"
     ]
    }
   ],
   "source": [
    "print(\"Average F1 score: \", average_f1)\n",
    "print(\"Average Precision score: \", average_precision)\n",
    "print(\"Average Accuracy score: \", average_accuracy)\n",
    "print(\"Average recall score: \", average_recall)"
   ]
  },
  {
   "cell_type": "markdown",
   "metadata": {},
   "source": [
    "### Cross Valatiation on Random Forest Classifier"
   ]
  },
  {
   "cell_type": "code",
   "execution_count": 106,
   "metadata": {
    "scrolled": true
   },
   "outputs": [
    {
     "name": "stderr",
     "output_type": "stream",
     "text": [
      "[Parallel(n_jobs=-1)]: Using backend LokyBackend with 8 concurrent workers.\n",
      "[Parallel(n_jobs=-1)]: Done   6 out of  10 | elapsed:   15.8s remaining:   10.5s\n"
     ]
    },
    {
     "name": "stdout",
     "output_type": "stream",
     "text": [
      "{'fit_time': array([12.89261007, 12.98794603, 13.05686927, 13.02847719, 12.95364904,\n",
      "       13.09401608, 13.02404118, 13.09164286,  5.8873961 ,  5.91973996]), 'score_time': array([0.35288715, 0.34723997, 0.36277676, 0.34317279, 0.3383131 ,\n",
      "       0.35591602, 0.36650205, 0.36352992, 0.14907074, 0.14770484]), 'test_f1': array([0.25816608, 0.20056957, 0.44978089, 0.50431253, 0.51610738,\n",
      "       0.55250245, 0.45848564, 0.5743755 , 0.50220115, 0.78572409]), 'test_precision': array([0.99393939, 0.99797571, 1.        , 1.        , 1.        ,\n",
      "       0.99822695, 0.99621785, 1.        , 1.        , 1.        ]), 'test_accuracy': array([0.68422816, 0.6708267 , 0.73708016, 0.75450205, 0.75843873,\n",
      "       0.77083508, 0.73942541, 0.77879219, 0.75374822, 0.86925203]), 'test_recall': array([0.14834916, 0.11148801, 0.29014021, 0.33717775, 0.34780642,\n",
      "       0.38195387, 0.2977617 , 0.40289396, 0.33529279, 0.64707212])}\n"
     ]
    },
    {
     "name": "stderr",
     "output_type": "stream",
     "text": [
      "[Parallel(n_jobs=-1)]: Done  10 out of  10 | elapsed:   21.9s finished\n"
     ]
    }
   ],
   "source": [
    "rfc_cv =cross_validate(rfc, X, y, verbose = 1, scoring = [\"f1\", \"precision\",\"accuracy\",\"recall\"], cv = 10, n_jobs = -1)\n",
    "print(rfc_cv)"
   ]
  },
  {
   "cell_type": "code",
   "execution_count": 107,
   "metadata": {},
   "outputs": [],
   "source": [
    "average_f1 = sum(rfc_cv['test_f1'])/ len(rfc_cv['test_f1'])\n",
    "average_precision = sum(rfc_cv['test_precision'])/ len(rfc_cv['test_precision'])\n",
    "average_accuracy = sum(rfc_cv['test_accuracy'])/ len(rfc_cv['test_accuracy'])\n",
    "average_recall = sum(rfc_cv['test_recall'])/ len(rfc_cv['test_recall'])"
   ]
  },
  {
   "cell_type": "code",
   "execution_count": 108,
   "metadata": {},
   "outputs": [
    {
     "name": "stdout",
     "output_type": "stream",
     "text": [
      "Average F1 score:  0.48022252919828484\n",
      "Average Precision score:  0.9986359904535815\n",
      "Average Accuracy score:  0.751712873775023\n",
      "Average recall score:  0.32999359971564296\n"
     ]
    }
   ],
   "source": [
    "print(\"Average F1 score: \", average_f1)\n",
    "print(\"Average Precision score: \", average_precision)\n",
    "print(\"Average Accuracy score: \", average_accuracy)\n",
    "print(\"Average recall score: \", average_recall)"
   ]
  },
  {
   "cell_type": "markdown",
   "metadata": {},
   "source": [
    "# 6. Model Interpretation "
   ]
  },
  {
   "cell_type": "code",
   "execution_count": null,
   "metadata": {},
   "outputs": [],
   "source": []
  }
 ],
 "metadata": {
  "kernelspec": {
   "display_name": "Python 3",
   "language": "python",
   "name": "python3"
  },
  "language_info": {
   "codemirror_mode": {
    "name": "ipython",
    "version": 3
   },
   "file_extension": ".py",
   "mimetype": "text/x-python",
   "name": "python",
   "nbconvert_exporter": "python",
   "pygments_lexer": "ipython3",
   "version": "3.6.9"
  }
 },
 "nbformat": 4,
 "nbformat_minor": 4
}
