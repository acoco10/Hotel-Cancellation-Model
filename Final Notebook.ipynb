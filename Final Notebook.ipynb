{
 "cells": [
  {
   "cell_type": "code",
   "execution_count": 15,
   "metadata": {},
   "outputs": [],
   "source": [
    "import pandas as pd\n",
    "import numpy as np\n",
    "import seaborn as sns\n",
    "import pandas as pd\n",
    "import numpy as np\n",
    "from matplotlib import pyplot as plt\n",
    "from sklearn.preprocessing import MinMaxScaler\n",
    "#!pip install sort-dataframeby-monthorweek\n",
    "#!pip install sorted-months-weekdays"
   ]
  },
  {
   "cell_type": "markdown",
   "metadata": {},
   "source": [
    "# 1. Initial Data Cleaning"
   ]
  },
  {
   "cell_type": "markdown",
   "metadata": {},
   "source": [
    "Our data set is from Kaggle and fairly large, with over 100,000 rows and 32 columns. Each row is a different reservation. Our target variable is whether or not they ended up cancelling their reservation. Our classes are imbalanced towards non cancelations but not to a huge extent (75,000 - 45,000). This may affect a logistic regression, but a more powerful model with this much data will be fine."
   ]
  },
  {
   "cell_type": "code",
   "execution_count": 16,
   "metadata": {},
   "outputs": [],
   "source": [
    "#reading in the data and increasing the number of rows and columns pandas will display\n",
    "df = pd.read_csv(\"data/hotel_bookings.csv\")\n",
    "pd.set_option('display.max_columns', None)\n",
    "pd.options.display.max_rows = 200"
   ]
  },
  {
   "cell_type": "code",
   "execution_count": 17,
   "metadata": {},
   "outputs": [
    {
     "data": {
      "text/plain": [
       "(119390, 32)"
      ]
     },
     "execution_count": 17,
     "metadata": {},
     "output_type": "execute_result"
    }
   ],
   "source": [
    "#119,390 rows, 32 columns\n",
    "df.shape"
   ]
  },
  {
   "cell_type": "code",
   "execution_count": 18,
   "metadata": {},
   "outputs": [
    {
     "data": {
      "text/plain": [
       "0    75166\n",
       "1    44224\n",
       "Name: is_canceled, dtype: int64"
      ]
     },
     "execution_count": 18,
     "metadata": {},
     "output_type": "execute_result"
    }
   ],
   "source": [
    "#our two classes 0 = did not cancel and 1 = did \n",
    "df.is_canceled.value_counts()"
   ]
  },
  {
   "cell_type": "markdown",
   "metadata": {},
   "source": [
    "These are variables from after someone has checked in so they are not suitable for a predictive model. "
   ]
  },
  {
   "cell_type": "code",
   "execution_count": 19,
   "metadata": {},
   "outputs": [],
   "source": [
    "#dropping these columns\n",
    "df = df.drop('reservation_status', axis = 1)"
   ]
  },
  {
   "cell_type": "code",
   "execution_count": 20,
   "metadata": {},
   "outputs": [],
   "source": [
    "df = df.drop('reservation_status_date', axis = 1)"
   ]
  },
  {
   "cell_type": "markdown",
   "metadata": {},
   "source": [
    "There is exactly one family with 10 children, the rest have 3 or less, lets just get rid of that outlier."
   ]
  },
  {
   "cell_type": "code",
   "execution_count": 75,
   "metadata": {},
   "outputs": [
    {
     "data": {
      "text/plain": [
       "0.0     110796\n",
       "1.0       4861\n",
       "2.0       3652\n",
       "3.0         76\n",
       "10.0         1\n",
       "Name: children, dtype: int64"
      ]
     },
     "execution_count": 75,
     "metadata": {},
     "output_type": "execute_result"
    }
   ],
   "source": [
    "#checking the value counts for the children and realizing the outlier \n",
    "df.children.value_counts()\n"
   ]
  },
  {
   "cell_type": "code",
   "execution_count": 76,
   "metadata": {},
   "outputs": [],
   "source": [
    "df.children = df[df.children < 10]"
   ]
  },
  {
   "cell_type": "markdown",
   "metadata": {},
   "source": [
    "We do not need the precision that day of the month or the week number provides to make a generalizable model "
   ]
  },
  {
   "cell_type": "code",
   "execution_count": 77,
   "metadata": {},
   "outputs": [],
   "source": [
    "#dropping week and day data \n",
    "df = df.drop('arrival_date_week_number', axis = 1)\n",
    "df = df.drop('arrival_date_day_of_month', axis =1)"
   ]
  },
  {
   "cell_type": "markdown",
   "metadata": {},
   "source": [
    "There are over 200 countries where people are visiting from in this data set, that will be a nightmare to make dummy variables out of and train models on, and may overfit to countries with few visitors, lets narrow it down to the top 20 and have the rest be \"other\"."
   ]
  },
  {
   "cell_type": "code",
   "execution_count": 78,
   "metadata": {},
   "outputs": [],
   "source": [
    "#creating a column then using groupby to sum all the values in that column and sort the data\n",
    "df['one'] = 1\n",
    "top_20_countries = df.groupby('country').sum().sort_values('one', ascending = False)[:20].index\n",
    "df['top_20_c'] = df.country.apply(lambda x: x in top_20_countries)\n",
    "df['country'] = np.where(df.top_20_c == True, df.country, 'other')"
   ]
  },
  {
   "cell_type": "code",
   "execution_count": 79,
   "metadata": {},
   "outputs": [
    {
     "data": {
      "text/plain": [
       "PRT      48590\n",
       "GBR      12129\n",
       "FRA      10415\n",
       "ESP       8568\n",
       "other     7371\n",
       "DEU       7287\n",
       "ITA       3766\n",
       "IRL       3375\n",
       "BEL       2342\n",
       "BRA       2224\n",
       "NLD       2104\n",
       "USA       2097\n",
       "CHE       1730\n",
       "CN        1279\n",
       "AUT       1263\n",
       "SWE       1024\n",
       "CHN        999\n",
       "POL        919\n",
       "ISR        669\n",
       "RUS        632\n",
       "NOR        607\n",
       "Name: country, dtype: int64"
      ]
     },
     "execution_count": 79,
     "metadata": {},
     "output_type": "execute_result"
    }
   ],
   "source": [
    "#using value counts to see if it worked\n",
    "df.country.value_counts()"
   ]
  },
  {
   "cell_type": "code",
   "execution_count": 80,
   "metadata": {},
   "outputs": [],
   "source": [
    "#getting rid of an extraneous column we used to filter the data \n",
    "df = df.drop('top_20_c', axis = 1)"
   ]
  },
  {
   "cell_type": "markdown",
   "metadata": {},
   "source": [
    "Lets do a similar thing to company as we did for countries but only the top 10. companies with only a few reservations do not seem very predictive and could over fit the model. We will also set the NaNs (the majority of the dataset) to \"no company.\""
   ]
  },
  {
   "cell_type": "code",
   "execution_count": 81,
   "metadata": {},
   "outputs": [],
   "source": [
    "#turning all the values into string \n",
    "df['company'] = df.company.astype(str)"
   ]
  },
  {
   "cell_type": "code",
   "execution_count": 82,
   "metadata": {},
   "outputs": [],
   "source": [
    "#making 'nan' into no company using np.where\n",
    "df['company'] = np.where(df.company == 'nan', 'no_company', df.company)"
   ]
  },
  {
   "cell_type": "code",
   "execution_count": 83,
   "metadata": {},
   "outputs": [],
   "source": [
    "#using a similar plan as the country data to get the companies that booked the most reservations \n",
    "top_11_companies = df.groupby('company').sum().sort_values('one', ascending = False)[:11].index\n",
    "df['top_10_co'] = df.company.apply(lambda x: x in top_11_companies)\n"
   ]
  },
  {
   "cell_type": "code",
   "execution_count": 84,
   "metadata": {},
   "outputs": [],
   "source": [
    "#and making the column using our earlier work as a filter with np.where \n",
    "df['company'] = np.where(df.top_10_co == True, df.company, 'other')"
   ]
  },
  {
   "cell_type": "code",
   "execution_count": 85,
   "metadata": {},
   "outputs": [
    {
     "data": {
      "text/plain": [
       "no_company    112593\n",
       "other           3674\n",
       "40.0             927\n",
       "223.0            784\n",
       "67.0             267\n",
       "45.0             250\n",
       "153.0            215\n",
       "174.0            149\n",
       "219.0            141\n",
       "281.0            138\n",
       "154.0            133\n",
       "405.0            119\n",
       "Name: company, dtype: int64"
      ]
     },
     "execution_count": 85,
     "metadata": {},
     "output_type": "execute_result"
    }
   ],
   "source": [
    "#using value count to make sure it worked \n",
    "df.company.value_counts()"
   ]
  },
  {
   "cell_type": "code",
   "execution_count": 86,
   "metadata": {},
   "outputs": [],
   "source": [
    "#dropping some columns we used to tabulate the data \n",
    "df = df.drop('one', axis = 1)"
   ]
  },
  {
   "cell_type": "code",
   "execution_count": 87,
   "metadata": {},
   "outputs": [],
   "source": [
    "df = df.drop('top_10_co', axis = 1)"
   ]
  },
  {
   "cell_type": "markdown",
   "metadata": {},
   "source": [
    "Theres some pesky nans floating around."
   ]
  },
  {
   "cell_type": "code",
   "execution_count": 88,
   "metadata": {},
   "outputs": [
    {
     "data": {
      "text/plain": [
       "hotel                                 0\n",
       "is_canceled                           0\n",
       "lead_time                             0\n",
       "arrival_date_year                     0\n",
       "arrival_date_month                    0\n",
       "stays_in_weekend_nights               0\n",
       "stays_in_week_nights                  0\n",
       "adults                                0\n",
       "children                              5\n",
       "babies                                0\n",
       "meal                                  0\n",
       "country                               0\n",
       "market_segment                        0\n",
       "distribution_channel                  0\n",
       "is_repeated_guest                     0\n",
       "previous_cancellations                0\n",
       "previous_bookings_not_canceled        0\n",
       "reserved_room_type                    0\n",
       "assigned_room_type                    0\n",
       "booking_changes                       0\n",
       "deposit_type                          0\n",
       "agent                             16340\n",
       "company                               0\n",
       "days_in_waiting_list                  0\n",
       "customer_type                         0\n",
       "adr                                   0\n",
       "required_car_parking_spaces           0\n",
       "total_of_special_requests             0\n",
       "one                                   0\n",
       "dtype: int64"
      ]
     },
     "execution_count": 88,
     "metadata": {},
     "output_type": "execute_result"
    }
   ],
   "source": [
    "#checking which columns they are in \n",
    "df.isna().sum()"
   ]
  },
  {
   "cell_type": "code",
   "execution_count": 89,
   "metadata": {},
   "outputs": [],
   "source": [
    "#converting booking with travel agent to a dummy variable \n",
    "df['agent'] = np.where((df['agent'].astype('str') == 'NaN')|(df['agent'].astype('str') == 'nan'), 0, 1)"
   ]
  },
  {
   "cell_type": "markdown",
   "metadata": {},
   "source": [
    "Not so pesky after all, they showed us we could make the travel agent column a dummy variable between people who did and did not have an agent."
   ]
  },
  {
   "cell_type": "markdown",
   "metadata": {},
   "source": [
    "# 2. Exploratory Data Analysis"
   ]
  },
  {
   "cell_type": "code",
   "execution_count": 21,
   "metadata": {},
   "outputs": [],
   "source": [
    "# Font for the visual aids\n",
    "sub = {'family': 'serif',\n",
    "        'color':  'black',\n",
    "        'weight': 'normal',\n",
    "        'size': 16,\n",
    "        }\n",
    "Title = {'family': 'serif',\n",
    "        'color':  'black',\n",
    "        'weight': 'normal',\n",
    "        'size': 22,\n",
    "        }"
   ]
  },
  {
   "cell_type": "markdown",
   "metadata": {},
   "source": [
    "Lets figure out how much money our hotels lost on cancellations."
   ]
  },
  {
   "cell_type": "code",
   "execution_count": 91,
   "metadata": {},
   "outputs": [],
   "source": [
    "#combining the weekend nights and weekday nights to get the total length of the reservation \n",
    "df['total_nights'] = df['stays_in_weekend_nights'] + df['stays_in_week_nights']"
   ]
  },
  {
   "cell_type": "code",
   "execution_count": 92,
   "metadata": {},
   "outputs": [
    {
     "data": {
      "text/plain": [
       "16727237.120000001"
      ]
     },
     "execution_count": 92,
     "metadata": {},
     "output_type": "execute_result"
    }
   ],
   "source": [
    "#using this data to calculate how much the hotel lost during this time period \n",
    "(df[df.is_canceled == 1]['total_nights'] * df[df.is_canceled == 1]['adr']).sum()"
   ]
  },
  {
   "cell_type": "markdown",
   "metadata": {},
   "source": [
    "16.7 million in three years! Thats a lot of cash! At the end we will show how much of this our model could save. This does not calculate the labor involved in switching reservations around and/or preparing different rooms. "
   ]
  },
  {
   "cell_type": "code",
   "execution_count": 93,
   "metadata": {},
   "outputs": [
    {
     "data": {
      "text/plain": [
       "105.30446539770578"
      ]
     },
     "execution_count": 93,
     "metadata": {},
     "output_type": "execute_result"
    }
   ],
   "source": [
    "#checking the mean of the average daily rate of the city hotel\n",
    "df[df.hotel == 'City Hotel']['adr'].mean()"
   ]
  },
  {
   "cell_type": "code",
   "execution_count": 94,
   "metadata": {},
   "outputs": [
    {
     "data": {
      "text/plain": [
       "94.9529296055916"
      ]
     },
     "execution_count": 94,
     "metadata": {},
     "output_type": "execute_result"
    }
   ],
   "source": [
    "#and the mean of the country hotel \n",
    "df[df.hotel == 'Resort Hotel']['adr'].mean()"
   ]
  },
  {
   "cell_type": "code",
   "execution_count": 95,
   "metadata": {},
   "outputs": [
    {
     "data": {
      "text/plain": [
       "City Hotel      79330\n",
       "Resort Hotel    40060\n",
       "Name: hotel, dtype: int64"
      ]
     },
     "execution_count": 95,
     "metadata": {},
     "output_type": "execute_result"
    }
   ],
   "source": [
    "#checking how many reservations each hotel had \n",
    "df[\"hotel\"].value_counts() "
   ]
  },
  {
   "cell_type": "code",
   "execution_count": 96,
   "metadata": {
    "scrolled": false
   },
   "outputs": [
    {
     "data": {
      "image/png": "[encoded data removed]",
      "text/plain": [
       "<Figure size 720x576 with 1 Axes>"
      ]
     },
     "metadata": {
      "needs_background": "light"
     },
     "output_type": "display_data"
    }
   ],
   "source": [
    "#making a bar graph to display this data and implememnting custom titles and fonts \n",
    "fig, ax = plt.subplots(figsize = (10,8))\n",
    "ax=sns.countplot(x='hotel', data = df)\n",
    "plt.title('Number of Reservations at Hotels', fontdict = Title)\n",
    "plt.xlabel('Hotel', fontdict = sub)\n",
    "plt.ylabel('Count', fontdict = sub)\n",
    "plt.savefig('images/total_reservations', bbox_inches = \"tight\");"
   ]
  },
  {
   "cell_type": "markdown",
   "metadata": {},
   "source": [
    "Unsurprisingly, the city hotel in our dataset had far more reservations."
   ]
  },
  {
   "cell_type": "code",
   "execution_count": 97,
   "metadata": {
    "scrolled": false
   },
   "outputs": [
    {
     "data": {
      "image/png": "[encoded data removed]",
      "text/plain": [
       "<Figure size 720x576 with 1 Axes>"
      ]
     },
     "metadata": {
      "needs_background": "light"
     },
     "output_type": "display_data"
    }
   ],
   "source": [
    "fig, ax = plt.subplots(figsize = (10,8))\n",
    "ax = sns.countplot(x='is_canceled', data = df, hue= \"hotel\")\n",
    "plt.title('Number of Cancellations', fontdict = Title)\n",
    "\n",
    "plt.xlabel('Cancellations', fontdict =  sub)\n",
    "plt.ylabel('Count',  fontdict = sub);\n",
    "plt.xticks([0,1],[\"Not Canceled\", \"Yes Canceled\"])\n",
    "plt.savefig('images/total_cancel', bbox_inches = \"tight\");\n"
   ]
  },
  {
   "cell_type": "markdown",
   "metadata": {},
   "source": [
    "Cancelations make up almost 40% of total reservations."
   ]
  },
  {
   "cell_type": "code",
   "execution_count": 98,
   "metadata": {
    "scrolled": true
   },
   "outputs": [
    {
     "data": {
      "text/plain": [
       "hotel         arrival_date_year\n",
       "City Hotel    2015                  6004\n",
       "              2016                 15407\n",
       "              2017                 11691\n",
       "Resort Hotel  2015                  2138\n",
       "              2016                  4930\n",
       "              2017                  4054\n",
       "Name: is_canceled, dtype: int64"
      ]
     },
     "execution_count": 98,
     "metadata": {},
     "output_type": "execute_result"
    }
   ],
   "source": [
    "df.groupby(['hotel', 'arrival_date_year'])['is_canceled'].sum() #number of cancellations per year for each hotel"
   ]
  },
  {
   "cell_type": "code",
   "execution_count": 99,
   "metadata": {
    "scrolled": false
   },
   "outputs": [
    {
     "data": {
      "text/plain": [
       "''"
      ]
     },
     "execution_count": 99,
     "metadata": {},
     "output_type": "execute_result"
    },
    {
     "data": {
      "image/png": "[encoded data removed]",
      "text/plain": [
       "<Figure size 1152x576 with 1 Axes>"
      ]
     },
     "metadata": {
      "needs_background": "light"
     },
     "output_type": "display_data"
    }
   ],
   "source": [
    "fig2, axes = plt.subplots( figsize = (16, 8))\n",
    "sns.barplot(x = 'arrival_date_year', y = df['is_canceled'], data = df,)\n",
    "plt.title('Cancellations Per Year', size = 15)\n",
    "plt.xlabel('Year')\n",
    "plt.ylabel('Proportion of reservations that were canceled')\n",
    ";"
   ]
  },
  {
   "cell_type": "markdown",
   "metadata": {},
   "source": [
    "The proportion of cancellations has not changed much in the past 3 years."
   ]
  },
  {
   "cell_type": "code",
   "execution_count": 100,
   "metadata": {},
   "outputs": [],
   "source": [
    "import datetime\n",
    "import sort_dataframeby_monthorweek\n",
    "df_sort = sort_dataframeby_monthorweek.Sort_Dataframeby_Month(df=df,monthcolumnname='arrival_date_month')\n",
    "df_X = df_sort.groupby('hotel')['arrival_date_month'].count().plot\n"
   ]
  },
  {
   "cell_type": "code",
   "execution_count": 124,
   "metadata": {},
   "outputs": [
    {
     "data": {
      "text/plain": [
       "<matplotlib.legend.Legend at 0x1a228c46d8>"
      ]
     },
     "execution_count": 124,
     "metadata": {},
     "output_type": "execute_result"
    },
    {
     "data": {
      "image/png": "[encoded data removed]",
      "text/plain": [
       "<Figure size 720x576 with 1 Axes>"
      ]
     },
     "metadata": {
      "needs_background": "light"
     },
     "output_type": "display_data"
    }
   ],
   "source": [
    "fig, ax = plt.subplots(figsize = (10,8))\n",
    "df_sort[df_sort.hotel == 'City Hotel'].groupby('arrival_date_month')['hotel'].count().plot(kind = 'bar', ax = ax)\n",
    "df_sort[df_sort.hotel == 'Resort Hotel'].groupby('arrival_date_month')['hotel'].count().plot(kind = 'bar', ax = ax, color = 'orange') \n",
    "plt.legend(labels = ['City Hotel', 'Resort Hotel'])"
   ]
  },
  {
   "cell_type": "code",
   "execution_count": 122,
   "metadata": {},
   "outputs": [
    {
     "data": {
      "image/png": "[encoded data removed]",
      "text/plain": [
       "<Figure size 1152x576 with 1 Axes>"
      ]
     },
     "metadata": {
      "needs_background": "light"
     },
     "output_type": "display_data"
    }
   ],
   "source": [
    "#df.groupby(['arrival_date_month'])['is_canceled'].sum().plot.bar(figsize=(12,8)) # plotting the above information\n",
    "fig2, axes = plt.subplots( figsize = (16, 8))\n",
    "sns.lineplot(x = 'arrival_date_month', y = 'is_canceled', sort = False, data = df_sort)\n",
    "#sns.lineplt(x = 'arrival_date_month', y =)\n",
    "plt.title('Hotel Cancellations by Month', fontdict = Title)\n",
    "plt.ylabel('Proportion of Cancellations', fontdict = sub)\n",
    "plt.xlabel(\"Month\", rotation = 0, fontdict=sub)\n",
    "plt.xticks(rotation=0)\n",
    "plt.savefig('images/cancellation_months', bbox_inches = \"tight\");\n"
   ]
  },
  {
   "cell_type": "markdown",
   "metadata": {},
   "source": [
    "People are less likely to cancel in the winter months. Even though reservations in the winter months are down as whole, there is still a sizeable difference in proportion of reservations that get cancelled when comparing the two graphs. "
   ]
  },
  {
   "cell_type": "code",
   "execution_count": 33,
   "metadata": {},
   "outputs": [
    {
     "data": {
      "image/png": "[encoded data removed]",
      "text/plain": [
       "<Figure size 864x576 with 1 Axes>"
      ]
     },
     "metadata": {
      "needs_background": "light"
     },
     "output_type": "display_data"
    }
   ],
   "source": [
    "fig, ax = (plt.subplots(figsize = (12,8)))\n",
    "sns.barplot(x=\"is_repeated_guest\",y= \"lead_time\", data=df, hue=\"is_canceled\")\n",
    "plt.title(\"Relationship between Cancelations, Leadtime and Repeated Guests\", fontdict = Title)\n",
    "plt.xlabel(\"Repeated Guest\", fontdict = sub)\n",
    "plt.ylabel(\"Leadtime\", fontdict = sub)\n",
    "plt.xticks([0,1],['First Time', 'Repeated Guest'])\n",
    "#plt.legend([\"No\", \"Yes\"])\n",
    "plt.savefig('images/relationship_cancel_lt_repeated', bbox_inches = \"tight\");"
   ]
  },
  {
   "cell_type": "markdown",
   "metadata": {},
   "source": [
    "Overall, longer lead times lead to more cancellations but interestingly this affect is amplified for repeat guests."
   ]
  },
  {
   "cell_type": "code",
   "execution_count": 203,
   "metadata": {},
   "outputs": [
    {
     "data": {
      "image/png": "[encoded data removed]",
      "text/plain": [
       "<Figure size 720x360 with 2 Axes>"
      ]
     },
     "metadata": {
      "needs_background": "light"
     },
     "output_type": "display_data"
    }
   ],
   "source": [
    "# correlation polt to check for exisiting colinearity that should be taken into consideration\n",
    "# for feature engineering and feature selection\n",
    "corr = df.corr()\n",
    "\n",
    "plt.figure(figsize = (10, 5))\n",
    "\n",
    "ax = sns.heatmap(corr, vmin = -1, vmax = 1, center = 0, \n",
    "                 cmap = sns.diverging_palette(20, 220, n = 200))\n",
    "\n",
    "ax.set_xticklabels(ax.get_xticklabels(), rotation = 45, horizontalalignment = 'right');\n"
   ]
  },
  {
   "cell_type": "markdown",
   "metadata": {},
   "source": [
    "# 3. Feature Engineering "
   ]
  },
  {
   "cell_type": "markdown",
   "metadata": {},
   "source": [
    "Lets add a feature where somebody got a different room type than the one they reserved, as this may make them likely to cancel."
   ]
  },
  {
   "cell_type": "code",
   "execution_count": 204,
   "metadata": {},
   "outputs": [],
   "source": [
    "df['dif_room_than_res'] = np.where(df.reserved_room_type == df.assigned_room_type, 0, 1)"
   ]
  },
  {
   "cell_type": "markdown",
   "metadata": {},
   "source": [
    "Most people were not put on the waiting list at all. Lets just change it to more of a had to wair or did not have to wait column. "
   ]
  },
  {
   "cell_type": "code",
   "execution_count": 205,
   "metadata": {},
   "outputs": [],
   "source": [
    "df['had_to_wait'] = np.where(df['days_in_waiting_list']>0, 1, 0)\n",
    "df = df.drop('days_in_waiting_list', axis = 1)"
   ]
  },
  {
   "cell_type": "markdown",
   "metadata": {},
   "source": [
    "This feature might have colinearity issues BUT we will probably settle on a complex model that adresses this and it will help evualate the precision profit trade off I will get into later. "
   ]
  },
  {
   "cell_type": "code",
   "execution_count": 206,
   "metadata": {},
   "outputs": [],
   "source": [
    "df['total_cost'] = df.adr * df.total_nights "
   ]
  },
  {
   "cell_type": "code",
   "execution_count": 207,
   "metadata": {},
   "outputs": [
    {
     "data": {
      "image/png": "[encoded data removed]",
      "text/plain": [
       "<Figure size 864x576 with 1 Axes>"
      ]
     },
     "metadata": {
      "needs_background": "light"
     },
     "output_type": "display_data"
    }
   ],
   "source": [
    "fig, ax = (plt.subplots(figsize = (12,8)))\n",
    "df.groupby(['hotel'])['total_cost'].sum().plot(kind=\"bar\")\n",
    "plt.title('Total Revenue Loss in 3 Years', fontdict = Title)\n",
    "plt.ylabel('Total Loss (Euro)', fontdict = sub)\n",
    "plt.xlabel(\"Hotel\", rotation = 0, fontdict=sub)\n",
    "plt.xticks(rotation=0)\n",
    "plt.ticklabel_format(axis=\"y\", style=\"plain\")\n",
    "plt.savefig('images/total_Revenue_Loss', bbox_inches = \"tight\");"
   ]
  },
  {
   "cell_type": "code",
   "execution_count": 208,
   "metadata": {
    "scrolled": true
   },
   "outputs": [
    {
     "data": {
      "text/plain": [
       "hotel\n",
       "City Hotel      25279469.96\n",
       "Resort Hotel    17444027.57\n",
       "Name: total_cost, dtype: float64"
      ]
     },
     "execution_count": 208,
     "metadata": {},
     "output_type": "execute_result"
    }
   ],
   "source": [
    "df.groupby(['hotel'])['total_cost'].sum()"
   ]
  },
  {
   "cell_type": "code",
   "execution_count": 144,
   "metadata": {},
   "outputs": [
    {
     "name": "stderr",
     "output_type": "stream",
     "text": [
      "/Users/DataSci/opt/anaconda3/envs/learn-env/lib/python3.6/site-packages/ipykernel_launcher.py:1: FutureWarning: Indexing with multiple keys (implicitly converted to a tuple of keys) will be deprecated, use a list instead.\n",
      "  \"\"\"Entry point for launching an IPython kernel.\n"
     ]
    },
    {
     "data": {
      "text/html": [
       "<div>\n",
       "<style scoped>\n",
       "    .dataframe tbody tr th:only-of-type {\n",
       "        vertical-align: middle;\n",
       "    }\n",
       "\n",
       "    .dataframe tbody tr th {\n",
       "        vertical-align: top;\n",
       "    }\n",
       "\n",
       "    .dataframe thead th {\n",
       "        text-align: right;\n",
       "    }\n",
       "</style>\n",
       "<table border=\"1\" class=\"dataframe\">\n",
       "  <thead>\n",
       "    <tr style=\"text-align: right;\">\n",
       "      <th></th>\n",
       "      <th>adr</th>\n",
       "      <th>total_nights</th>\n",
       "    </tr>\n",
       "    <tr>\n",
       "      <th>hotel</th>\n",
       "      <th></th>\n",
       "      <th></th>\n",
       "    </tr>\n",
       "  </thead>\n",
       "  <tbody>\n",
       "    <tr>\n",
       "      <th>City Hotel</th>\n",
       "      <td>105.304465</td>\n",
       "      <td>2.978142</td>\n",
       "    </tr>\n",
       "    <tr>\n",
       "      <th>Resort Hotel</th>\n",
       "      <td>94.952930</td>\n",
       "      <td>4.318547</td>\n",
       "    </tr>\n",
       "  </tbody>\n",
       "</table>\n",
       "</div>"
      ],
      "text/plain": [
       "                     adr  total_nights\n",
       "hotel                                 \n",
       "City Hotel    105.304465      2.978142\n",
       "Resort Hotel   94.952930      4.318547"
      ]
     },
     "execution_count": 144,
     "metadata": {},
     "output_type": "execute_result"
    }
   ],
   "source": [
    "df.groupby(['hotel'])['adr','total_nights'].mean()"
   ]
  },
  {
   "cell_type": "markdown",
   "metadata": {},
   "source": [
    "Now lets make dummy variable out of the bevy of categorical data to make our data suited for any kind of model we choose to run."
   ]
  },
  {
   "cell_type": "code",
   "execution_count": 145,
   "metadata": {},
   "outputs": [],
   "source": [
    "df = pd.get_dummies(df, columns = ['deposit_type'], drop_first = True)\n",
    "df = pd.get_dummies(df, columns = ['customer_type'], drop_first = True)\n",
    "df = pd.get_dummies(df, columns = ['arrival_date_month'], drop_first = True)\n",
    "df = pd.get_dummies(df, columns = ['reserved_room_type'], drop_first = True)\n",
    "df = pd.get_dummies(df, columns = ['assigned_room_type'], drop_first = True)\n",
    "df = pd.get_dummies(df, columns = ['meal'], drop_first = True)\n",
    "df = pd.get_dummies(df, columns = ['market_segment'], drop_first = True)\n",
    "df = pd.get_dummies(df, columns = ['country'], drop_first = True)\n",
    "df = pd.get_dummies(df, columns = ['distribution_channel'], drop_first = True)\n",
    "df = pd.get_dummies(df, columns = ['children'], drop_first = True)\n",
    "df = pd.get_dummies(df, columns = ['hotel'], drop_first = True)\n",
    "df = pd.get_dummies(df, columns = ['company'], drop_first = True)"
   ]
  },
  {
   "cell_type": "markdown",
   "metadata": {},
   "source": [
    "\n",
    "\n",
    "Now that we can see the relationships between the features and have made dummy columns for the categorical features, we will test what the base model looks like right now and improve the model to make better predictions. "
   ]
  },
  {
   "cell_type": "code",
   "execution_count": 146,
   "metadata": {},
   "outputs": [],
   "source": [
    "from sklearn.linear_model import LogisticRegression # Import Logistic Regression\n",
    "from sklearn import metrics \n",
    "from sklearn.tree import DecisionTreeClassifier # Import Decision Tree Classifier\n",
    "from sklearn.model_selection import train_test_split # Import train_test_split function\n",
    "from sklearn.metrics import make_scorer, accuracy_score #Import scikit-learn metrics module for accuracy calculation\n",
    "from sklearn.ensemble import RandomForestClassifier\n",
    "import xgboost as xgb\n",
    "from sklearn.metrics import precision_score, classification_report"
   ]
  },
  {
   "cell_type": "markdown",
   "metadata": {},
   "source": [
    "#### Logistic Regresion Base model"
   ]
  },
  {
   "cell_type": "code",
   "execution_count": 147,
   "metadata": {},
   "outputs": [],
   "source": [
    "X = df.drop('is_canceled', axis =1)\n",
    "y = df.is_canceled\n",
    "X_train, X_test, y_train, y_test = train_test_split(X, y, random_state=1)"
   ]
  },
  {
   "cell_type": "code",
   "execution_count": 148,
   "metadata": {},
   "outputs": [],
   "source": [
    "lr = LogisticRegression (max_iter = 2000)\n",
    "lr.fit(X_train, y_train)\n",
    "base_lr_test_pred = lr.predict(X_test)\n"
   ]
  },
  {
   "cell_type": "code",
   "execution_count": 149,
   "metadata": {},
   "outputs": [
    {
     "name": "stdout",
     "output_type": "stream",
     "text": [
      "Precision Score:  0.8131534569983137\n",
      "Confusion Matrix:  [[17191  1662]\n",
      " [ 3762  7233]]\n",
      "Classification Report:                precision    recall  f1-score   support\n",
      "\n",
      "           0       0.82      0.91      0.86     18853\n",
      "           1       0.81      0.66      0.73     10995\n",
      "\n",
      "    accuracy                           0.82     29848\n",
      "   macro avg       0.82      0.78      0.80     29848\n",
      "weighted avg       0.82      0.82      0.81     29848\n",
      "\n"
     ]
    }
   ],
   "source": [
    "\n",
    "print(\"Precision Score: \", precision_score(y_test, base_lr_test_pred))\n",
    "print (\"Confusion Matrix: \", metrics.confusion_matrix(y_test, base_lr_test_pred))\n",
    "print(\"Classification Report: \", classification_report(y_test, base_lr_test_pred))"
   ]
  },
  {
   "cell_type": "markdown",
   "metadata": {},
   "source": [
    "# 4. Model iterations"
   ]
  },
  {
   "cell_type": "markdown",
   "metadata": {},
   "source": [
    "Since overbooking a room where someone did not cancel would be a headache, we tailored our models towards precision. AKA if we say someone is going to cancel, there is a very high chance they are. This might dip into profitabality since less rooms can be overbooked but that could be adjusted on a client by client basis. "
   ]
  },
  {
   "cell_type": "markdown",
   "metadata": {},
   "source": [
    "### Test Train Split"
   ]
  },
  {
   "cell_type": "code",
   "execution_count": 150,
   "metadata": {},
   "outputs": [],
   "source": [
    "X = df.drop('is_canceled', axis =1)\n",
    "y = df['is_canceled']\n",
    "X_train, X_test, y_train, y_test = train_test_split(X, y, random_state=1)\n"
   ]
  },
  {
   "cell_type": "markdown",
   "metadata": {},
   "source": [
    "### Scaling our data"
   ]
  },
  {
   "cell_type": "code",
   "execution_count": 151,
   "metadata": {},
   "outputs": [],
   "source": [
    "scaler = MinMaxScaler()\n",
    "scaled = scaler.fit_transform(X_train)\n",
    "scaled_test = scaler.transform(X_test)\n"
   ]
  },
  {
   "cell_type": "markdown",
   "metadata": {},
   "source": [
    "### Logistic Regression"
   ]
  },
  {
   "cell_type": "code",
   "execution_count": 152,
   "metadata": {},
   "outputs": [],
   "source": [
    "lr = LogisticRegression (max_iter = 1000)\n",
    "lr.fit(scaled, y_train)\n",
    "lr_test_pred = lr.predict(scaled_test)\n"
   ]
  },
  {
   "cell_type": "code",
   "execution_count": 153,
   "metadata": {},
   "outputs": [
    {
     "data": {
      "text/plain": [
       "0.8082913165266107"
      ]
     },
     "execution_count": 153,
     "metadata": {},
     "output_type": "execute_result"
    }
   ],
   "source": [
    "metrics.precision_score(y_test , lr_test_pred)"
   ]
  },
  {
   "cell_type": "code",
   "execution_count": 154,
   "metadata": {},
   "outputs": [
    {
     "name": "stdout",
     "output_type": "stream",
     "text": [
      "Precision Score: \n",
      "0.8082913165266107\n",
      "Confusion Matrix: \n",
      "[[17142  1711]\n",
      " [ 3781  7214]]\n",
      "Classification Report: \n",
      "              precision    recall  f1-score   support\n",
      "\n",
      "           0       0.82      0.91      0.86     18853\n",
      "           1       0.81      0.66      0.72     10995\n",
      "\n",
      "    accuracy                           0.82     29848\n",
      "   macro avg       0.81      0.78      0.79     29848\n",
      "weighted avg       0.82      0.82      0.81     29848\n",
      "\n"
     ]
    }
   ],
   "source": [
    "print(\"Precision Score: \")\n",
    "print(precision_score(y_test, lr_test_pred))\n",
    "print (\"Confusion Matrix: \",)\n",
    "print(metrics.confusion_matrix(y_test, lr_test_pred))\n",
    "print(\"Classification Report: \",)\n",
    "print(classification_report(y_test, lr_test_pred))"
   ]
  },
  {
   "cell_type": "markdown",
   "metadata": {},
   "source": [
    "### With Ridge"
   ]
  },
  {
   "cell_type": "code",
   "execution_count": 155,
   "metadata": {},
   "outputs": [],
   "source": [
    "lr = LogisticRegression (penalty = 'l1', solver='saga', max_iter = 1000)\n",
    "lr.fit(scaled, y_train)\n",
    "ridge_test_pred = lr.predict(scaled_test)"
   ]
  },
  {
   "cell_type": "code",
   "execution_count": 156,
   "metadata": {},
   "outputs": [
    {
     "name": "stdout",
     "output_type": "stream",
     "text": [
      "Precision Score: \n",
      "0.8121131741821397\n",
      "Confusion Matrix: \n",
      "[[17153  1700]\n",
      " [ 3647  7348]]\n",
      "Classification Report: \n",
      "              precision    recall  f1-score   support\n",
      "\n",
      "           0       0.82      0.91      0.87     18853\n",
      "           1       0.81      0.67      0.73     10995\n",
      "\n",
      "    accuracy                           0.82     29848\n",
      "   macro avg       0.82      0.79      0.80     29848\n",
      "weighted avg       0.82      0.82      0.82     29848\n",
      "\n"
     ]
    }
   ],
   "source": [
    "metrics.precision_score(y_test, ridge_test_pred)\n",
    "print(\"Precision Score: \")\n",
    "print(precision_score(y_test, ridge_test_pred))\n",
    "print (\"Confusion Matrix: \",)\n",
    "print(metrics.confusion_matrix(y_test, ridge_test_pred))\n",
    "print(\"Classification Report: \",)\n",
    "print(classification_report(y_test, ridge_test_pred))"
   ]
  },
  {
   "cell_type": "markdown",
   "metadata": {},
   "source": [
    "### Random Forest Model"
   ]
  },
  {
   "cell_type": "markdown",
   "metadata": {},
   "source": [
    "Our initial results with this model looked promising so we ran a grid search to find the best hyper paramaters."
   ]
  },
  {
   "cell_type": "code",
   "execution_count": 157,
   "metadata": {},
   "outputs": [],
   "source": [
    "rfc = RandomForestClassifier(random_state = 1, n_estimators=300, max_depth=10, max_features='auto')"
   ]
  },
  {
   "cell_type": "code",
   "execution_count": 158,
   "metadata": {},
   "outputs": [],
   "source": [
    "rfc = rfc.fit(X_train, y_train)"
   ]
  },
  {
   "cell_type": "code",
   "execution_count": 159,
   "metadata": {},
   "outputs": [
    {
     "data": {
      "text/plain": [
       "0.8921568627450981"
      ]
     },
     "execution_count": 159,
     "metadata": {},
     "output_type": "execute_result"
    }
   ],
   "source": [
    "rfc_test_pred = rfc.predict(X_test)\n",
    "metrics.precision_score(y_test, rfc_test_pred)"
   ]
  },
  {
   "cell_type": "code",
   "execution_count": 160,
   "metadata": {},
   "outputs": [
    {
     "name": "stdout",
     "output_type": "stream",
     "text": [
      "Precision Score: \n",
      "0.8921568627450981\n",
      "Confusion Matrix: \n",
      "[[17973   880]\n",
      " [ 3715  7280]]\n",
      "Classification Report: \n",
      "              precision    recall  f1-score   support\n",
      "\n",
      "           0       0.83      0.95      0.89     18853\n",
      "           1       0.89      0.66      0.76     10995\n",
      "\n",
      "    accuracy                           0.85     29848\n",
      "   macro avg       0.86      0.81      0.82     29848\n",
      "weighted avg       0.85      0.85      0.84     29848\n",
      "\n"
     ]
    }
   ],
   "source": [
    "print(\"Precision Score: \")\n",
    "print(precision_score(y_test, rfc_test_pred))\n",
    "print (\"Confusion Matrix: \",)\n",
    "print(metrics.confusion_matrix(y_test, rfc_test_pred))\n",
    "print(\"Classification Report: \",)\n",
    "print(classification_report(y_test, rfc_test_pred))"
   ]
  },
  {
   "cell_type": "markdown",
   "metadata": {},
   "source": [
    "### With Gridsearch recommended Hyper Paramaters "
   ]
  },
  {
   "cell_type": "markdown",
   "metadata": {},
   "source": [
    "I ran a grid search in a different notebook and simply did not have time to replicate that here, it is in aidans notebook gridsearch, I chose the hyper parameters it liked best and input them into the model with a max depth of only 2 here. Seemingly a random \"stump\" style model worked best to increase precision.  "
   ]
  },
  {
   "cell_type": "code",
   "execution_count": 161,
   "metadata": {},
   "outputs": [],
   "source": [
    "rfc = RandomForestClassifier(random_state = 1, n_estimators=300, max_depth=2, max_features='auto')"
   ]
  },
  {
   "cell_type": "code",
   "execution_count": 162,
   "metadata": {},
   "outputs": [
    {
     "data": {
      "text/plain": [
       "RandomForestClassifier(max_depth=2, n_estimators=300, random_state=1)"
      ]
     },
     "execution_count": 162,
     "metadata": {},
     "output_type": "execute_result"
    }
   ],
   "source": [
    "rfc.fit(X_train, y_train)"
   ]
  },
  {
   "cell_type": "code",
   "execution_count": 163,
   "metadata": {},
   "outputs": [],
   "source": [
    "rfc_preds = rfc.predict(X_test)"
   ]
  },
  {
   "cell_type": "code",
   "execution_count": 164,
   "metadata": {},
   "outputs": [
    {
     "name": "stdout",
     "output_type": "stream",
     "text": [
      "Precision Score: \n",
      "0.9992117708880714\n",
      "Confusion Matrix: \n",
      "[[18850     3]\n",
      " [ 7192  3803]]\n",
      "Classification Report: \n",
      "              precision    recall  f1-score   support\n",
      "\n",
      "           0       0.72      1.00      0.84     18853\n",
      "           1       1.00      0.35      0.51     10995\n",
      "\n",
      "    accuracy                           0.76     29848\n",
      "   macro avg       0.86      0.67      0.68     29848\n",
      "weighted avg       0.83      0.76      0.72     29848\n",
      "\n"
     ]
    }
   ],
   "source": [
    "print(\"Precision Score: \")\n",
    "print(metrics.precision_score(y_test, rfc_preds))\n",
    "print (\"Confusion Matrix: \",)\n",
    "print(metrics.confusion_matrix(y_test, rfc_preds))\n",
    "print(\"Classification Report: \",)\n",
    "print(classification_report(y_test, rfc_preds))"
   ]
  },
  {
   "cell_type": "markdown",
   "metadata": {},
   "source": [
    "### XGBoost with GBTree"
   ]
  },
  {
   "cell_type": "markdown",
   "metadata": {},
   "source": [
    "While the Random Forest model pretty much maxed out precision, it was lacking in the other measures, can we create something more balanced?"
   ]
  },
  {
   "cell_type": "code",
   "execution_count": 165,
   "metadata": {},
   "outputs": [],
   "source": [
    "xg_clf = xgb.XGBClassifier(objective ='binary:logistic', \n",
    "                           colsample_bytree = 0.5, \n",
    "                           subsample = 0.5,\n",
    "                           learning_rate = 0.1,\n",
    "                           max_depth = 10, \n",
    "                           alpha = 1, \n",
    "                           n_estimators = 1000,\n",
    "                           verbosity = 1,\n",
    "                           booster = 'gbtree',\n",
    "                          )"
   ]
  },
  {
   "cell_type": "code",
   "execution_count": 166,
   "metadata": {},
   "outputs": [
    {
     "data": {
      "text/plain": [
       "XGBClassifier(alpha=1, colsample_bytree=0.5, max_depth=10, n_estimators=1000,\n",
       "              subsample=0.5)"
      ]
     },
     "execution_count": 166,
     "metadata": {},
     "output_type": "execute_result"
    }
   ],
   "source": [
    "xg_clf.fit(X_train,y_train)"
   ]
  },
  {
   "cell_type": "code",
   "execution_count": 167,
   "metadata": {},
   "outputs": [],
   "source": [
    "xg_preds2 = xg_clf.predict(X_test)"
   ]
  },
  {
   "cell_type": "code",
   "execution_count": 168,
   "metadata": {},
   "outputs": [
    {
     "name": "stdout",
     "output_type": "stream",
     "text": [
      "Precision Score: \n",
      "0.8573865251587226\n",
      "Confusion Matrix: \n",
      "[[17348  1505]\n",
      " [ 1947  9048]]\n",
      "Classification Report: \n",
      "              precision    recall  f1-score   support\n",
      "\n",
      "           0       0.90      0.92      0.91     18853\n",
      "           1       0.86      0.82      0.84     10995\n",
      "\n",
      "    accuracy                           0.88     29848\n",
      "   macro avg       0.88      0.87      0.87     29848\n",
      "weighted avg       0.88      0.88      0.88     29848\n",
      "\n"
     ]
    }
   ],
   "source": [
    "print(\"Precision Score: \")\n",
    "print(metrics.precision_score(y_test, xg_preds2))\n",
    "print (\"Confusion Matrix: \",)\n",
    "print(metrics.confusion_matrix(y_test, xg_preds2))\n",
    "print(\"Classification Report: \",)\n",
    "print(classification_report(y_test, xg_preds2))"
   ]
  },
  {
   "cell_type": "markdown",
   "metadata": {},
   "source": [
    "# 6. Model Interpretation "
   ]
  },
  {
   "cell_type": "markdown",
   "metadata": {},
   "source": [
    "Predicting hotel reservations has a precision-profit tradeoff, where a model tailored totally towards precision is middling or bad in other metrics. If a hotel prefers maximum precision to avoid any booking conflicts or orginazational headaches they lose profit by not correctly predicting many actual cancellations. Therefore we reccomend the xg boost model as it is more well rounded and still has a strong precision score. "
   ]
  },
  {
   "cell_type": "code",
   "execution_count": null,
   "metadata": {},
   "outputs": [],
   "source": []
  }
 ],
 "metadata": {
  "kernelspec": {
   "display_name": "Python 3",
   "language": "python",
   "name": "python3"
  },
  "language_info": {
   "codemirror_mode": {
    "name": "ipython",
    "version": 3
   },
   "file_extension": ".py",
   "mimetype": "text/x-python",
   "name": "python",
   "nbconvert_exporter": "python",
   "pygments_lexer": "ipython3",
   "version": "3.6.9"
  }
 },
 "nbformat": 4,
 "nbformat_minor": 4
}
